{
 "cells": [
  {
   "cell_type": "code",
   "execution_count": 65,
   "id": "a7e936e0",
   "metadata": {},
   "outputs": [],
   "source": [
    "import requests\n",
    "import json\n",
    "import pickle\n",
    "import csv"
   ]
  },
  {
   "cell_type": "markdown",
   "id": "081ae59e",
   "metadata": {},
   "source": [
    "# Fetch metadata from IPFS"
   ]
  },
  {
   "cell_type": "code",
   "execution_count": 7,
   "id": "3024e568",
   "metadata": {},
   "outputs": [],
   "source": [
    "ON1_MAX = 7777"
   ]
  },
  {
   "cell_type": "code",
   "execution_count": 10,
   "id": "bf699df9",
   "metadata": {},
   "outputs": [],
   "source": [
    "on1_force_traits_uri = 'https://ipfs.io/ipfs/QmXgSuLPGuxxRuAana7JdoWmaS25oAcXv3x2pYMN9kVfg3/{}'"
   ]
  },
  {
   "cell_type": "code",
   "execution_count": 11,
   "id": "471128f0",
   "metadata": {},
   "outputs": [],
   "source": [
    "on1_traits = {}"
   ]
  },
  {
   "cell_type": "code",
   "execution_count": 12,
   "id": "fa3b8729",
   "metadata": {},
   "outputs": [],
   "source": [
    "for i in range(1, ON1_MAX+1):\n",
    "    traits = requests.get(on1_force_traits_uri.format(i)).json()\n",
    "    on1_traits[i] = traits"
   ]
  },
  {
   "cell_type": "code",
   "execution_count": 13,
   "id": "aeed0b0f",
   "metadata": {},
   "outputs": [
    {
     "data": {
      "text/plain": [
       "7777"
      ]
     },
     "execution_count": 13,
     "metadata": {},
     "output_type": "execute_result"
    }
   ],
   "source": [
    "len(on1_traits)"
   ]
  },
  {
   "cell_type": "code",
   "execution_count": 17,
   "id": "b5d421ee",
   "metadata": {},
   "outputs": [],
   "source": [
    "# Save metadata into pickle file so we don't have to make all those requests to IPFS again\n",
    "with open('on1_force_traits_raw.pickle', 'wb') as handle:\n",
    "    pickle.dump(on1_traits, handle, protocol=pickle.HIGHEST_PROTOCOL)"
   ]
  },
  {
   "cell_type": "markdown",
   "id": "09025a16",
   "metadata": {},
   "source": [
    "# Extract traits"
   ]
  },
  {
   "cell_type": "code",
   "execution_count": 26,
   "id": "658868f3",
   "metadata": {},
   "outputs": [],
   "source": [
    "traits = []"
   ]
  },
  {
   "cell_type": "code",
   "execution_count": 33,
   "id": "5c667b2e",
   "metadata": {},
   "outputs": [],
   "source": [
    "for i in range(1, ON1_MAX+1):\n",
    "    attributes = on1_traits[i]['attributes']\n",
    "    for trait in attributes:\n",
    "        traits.append(trait['trait_type'])\n",
    "traits = sorted(list(set(traits)))"
   ]
  },
  {
   "cell_type": "code",
   "execution_count": 34,
   "id": "d8758266",
   "metadata": {},
   "outputs": [
    {
     "data": {
      "text/plain": [
       "['Background',\n",
       " 'Body',\n",
       " 'Domain',\n",
       " 'Extra',\n",
       " 'Eyes',\n",
       " 'Face',\n",
       " 'Hair',\n",
       " 'Head',\n",
       " 'Helmet',\n",
       " 'Mouth',\n",
       " 'Spirit',\n",
       " 'Strength',\n",
       " 'Style',\n",
       " 'Type',\n",
       " 'Wear']"
      ]
     },
     "execution_count": 34,
     "metadata": {},
     "output_type": "execute_result"
    }
   ],
   "source": [
    "traits"
   ]
  },
  {
   "cell_type": "markdown",
   "id": "f8d30f92",
   "metadata": {},
   "source": [
    "# Transform into CSV"
   ]
  },
  {
   "cell_type": "code",
   "execution_count": 40,
   "id": "ac22feb9",
   "metadata": {},
   "outputs": [
    {
     "data": {
      "text/plain": [
       "{'name': '0N1 #0001',\n",
       " 'attributes': [{'trait_type': 'Type', 'value': 'Y0K-A1'},\n",
       "  {'trait_type': 'Background', 'value': 'Jasper'},\n",
       "  {'trait_type': 'Body', 'value': 'Jasper'},\n",
       "  {'trait_type': 'Eyes', 'value': 'Eye Shadow (Jasper)'},\n",
       "  {'trait_type': 'Mouth', 'value': 'Frown'},\n",
       "  {'trait_type': 'Wear', 'value': 'Track Jacket (Obsidian)'},\n",
       "  {'trait_type': 'Hair', 'value': 'Bob (Obsidian)'},\n",
       "  {'trait_type': 'Face', 'value': 'PR Mask (Citrine)'},\n",
       "  {'trait_type': 'Head', 'value': 'Void'},\n",
       "  {'trait_type': 'Extra', 'value': 'Void'},\n",
       "  {'trait_type': 'Style', 'value': 4, 'max_value': 10},\n",
       "  {'trait_type': 'Strength', 'value': 5, 'max_value': 10},\n",
       "  {'trait_type': 'Spirit', 'value': 4, 'max_value': 10}],\n",
       " 'image': 'ipfs://QmcoavNZq2jyZGe2Zi4nanQqzU9hRPxunHAo8pgYZ5fSep/0001.png'}"
      ]
     },
     "execution_count": 40,
     "metadata": {},
     "output_type": "execute_result"
    }
   ],
   "source": [
    "on1_traits[1]"
   ]
  },
  {
   "cell_type": "code",
   "execution_count": 41,
   "id": "b98a9153",
   "metadata": {},
   "outputs": [],
   "source": [
    "# Preprocess the attributes into 1 diciontary so it is easier to work with\n",
    "for i in range(1, ON1_MAX+1):\n",
    "    attributes = on1_traits[i]['attributes']\n",
    "    attribute_dict = {}\n",
    "    for attribute in attributes:\n",
    "        attribute_dict[attribute['trait_type']] = attribute['value']\n",
    "    on1_traits[i]['attributes'] = attribute_dict       "
   ]
  },
  {
   "cell_type": "code",
   "execution_count": 69,
   "id": "abf1c3f0",
   "metadata": {},
   "outputs": [],
   "source": [
    "header = [\n",
    " 'Token Id',\n",
    " 'Background',\n",
    " 'Body',\n",
    " 'Domain',\n",
    " 'Extra',\n",
    " 'Eyes',\n",
    " 'Face',\n",
    " 'Hair',\n",
    " 'Head',\n",
    " 'Helmet',\n",
    " 'Mouth',\n",
    " 'Spirit',\n",
    " 'Strength',\n",
    " 'Style',\n",
    " 'Type',\n",
    " 'Wear',\n",
    " 'Image Url']"
   ]
  },
  {
   "cell_type": "code",
   "execution_count": 72,
   "id": "92bc5fc6",
   "metadata": {},
   "outputs": [],
   "source": [
    "with open('on1_force_traits.csv', 'w', newline='') as outcsv:\n",
    "    writer = csv.writer(outcsv)\n",
    "    writer.writerow(header)\n",
    "\n",
    "    for i in range(1, ON1_MAX+1):\n",
    "        attributes = on1_traits[i]['attributes']\n",
    "        row = [i]\n",
    "        for trait in traits:\n",
    "            if trait in attributes:\n",
    "                row.append(attributes[trait])\n",
    "            else:\n",
    "                row.append('')\n",
    "        row.append('https://ipfs.io/ipfs/'+ on1_traits[i]['image'][7:])\n",
    "        writer.writerow(row)"
   ]
  },
  {
   "cell_type": "markdown",
   "id": "8abc2a61",
   "metadata": {},
   "source": [
    "# Read CSV and generate SQL template"
   ]
  },
  {
   "cell_type": "code",
   "execution_count": 91,
   "id": "0d1cbc95",
   "metadata": {
    "scrolled": false
   },
   "outputs": [],
   "source": [
    "with open('on1_force_traits.csv', newline='') as csvfile:\n",
    "    r = csv.reader(csvfile, delimiter=',')\n",
    "    with open('on1_force_traits_sql.txt', 'w') as f:\n",
    "        for i,row in enumerate(r):\n",
    "            if(i == 0):\n",
    "                #Skip header\n",
    "                continue\n",
    "            sql_row = '('\n",
    "            for j,trait in enumerate(row):\n",
    "                if(j in (0, 11, 12, 13)):\n",
    "                    sql_row = sql_row + trait + ', '\n",
    "                else:\n",
    "                    sql_row = sql_row + '\\'{}\\''.format(trait) + ', '\n",
    "            sql_row = sql_row[:-2] + '),'\n",
    "#             print(sql_row + '\\n')\n",
    "            f.write(sql_row)\n",
    "            f.write('\\n')"
   ]
  }
 ],
 "metadata": {
  "kernelspec": {
   "display_name": "Python 3 (ipykernel)",
   "language": "python",
   "name": "python3"
  },
  "language_info": {
   "codemirror_mode": {
    "name": "ipython",
    "version": 3
   },
   "file_extension": ".py",
   "mimetype": "text/x-python",
   "name": "python",
   "nbconvert_exporter": "python",
   "pygments_lexer": "ipython3",
   "version": "3.9.5"
  }
 },
 "nbformat": 4,
 "nbformat_minor": 5
}
